{
  "nbformat": 4,
  "nbformat_minor": 0,
  "metadata": {
    "colab": {
      "provenance": []
    },
    "kernelspec": {
      "name": "python3",
      "display_name": "Python 3"
    },
    "language_info": {
      "name": "python"
    }
  },
  "cells": [
    {
      "cell_type": "markdown",
      "source": [
        "#Tugas\n",
        "# 1. Tentukan determinan matriks berikut:\n",
        "\n",
        "$$\\displaystyle A = \\left( \\begin{array}{cc}\n",
        "1 & 2 \\\\\n",
        "3 & 4\n",
        "\\end{array}\n",
        "\\right)\n",
        "$$\n",
        "\n",
        "#2. Tentukan invers Matriks Berikut:\n",
        "\n",
        "$$\\displaystyle B = \\left( \\begin{array}{cc}\n",
        "10 & -22 \\\\\n",
        "3 & 45\n",
        "\\end{array}\n",
        "\\right)\n",
        "$$\n",
        "\n",
        "#3. Tentukan apakah matriks berikut berkondisi buruk:\n",
        "$$\\displaystyle C = \\left( \\begin{array}{cc}\n",
        "1 & 10^{-10} \\\\\n",
        "10^{-10} & 1\n",
        "\\end{array}\n",
        "\\right)\n",
        "$$\n",
        "\n",
        "#4. Tentukan apakah sistem persamaan linier berikut memiliki solusi. Jika ada, bagaimana solusinya?\n",
        "\n",
        "$$\\displaystyle A = \\left( \\begin{array}{cc}\n",
        "1 & 2 \\\\\n",
        "3 & 4\n",
        "\\end{array}\n",
        "\\right) $$\n",
        "\n",
        "\n",
        "$$\\displaystyle\n",
        "b =  \\left( \\begin{array}{cc}\n",
        "5 & 6\n",
        "\\end{array}\n",
        "\\right) \\\\\n",
        "$$\n",
        "\n",
        "#5. Tentukan dimensi ruang nol matriks berikut:\n",
        "\n",
        "\n",
        "$$\\displaystyle\n",
        "C =\n",
        "\\left(\n",
        "\\begin{array}{ccc}\n",
        "1 & 2 & 3 \\\\\n",
        "4 & 5 & 6 \\\\\n",
        "7 & 8 & 9\n",
        "\\end{array}\n",
        "\\right)\n",
        "$$"
      ],
      "metadata": {
        "id": "6f2-D0n4b-gt"
      }
    },
    {
      "cell_type": "markdown",
      "source": [
        "#Jawaban\n",
        "\n",
        "#1. Menentukan determinan matriks"
      ],
      "metadata": {
        "id": "rgHZkFz4dDGp"
      }
    },
    {
      "cell_type": "code",
      "source": [
        "import numpy as np\n",
        "\n",
        "# Membuat matriks 2x2\n",
        "M = np.array([[1, 2], [3, 4]])\n",
        "\n",
        "# Menghitung determinan matriks\n",
        "determinant = np.linalg.det(M)\n",
        "\n",
        "print(determinant)"
      ],
      "metadata": {
        "colab": {
          "base_uri": "https://localhost:8080/"
        },
        "id": "kiDc72J9dJit",
        "outputId": "6591ff2d-f2ac-4307-a8ad-8766d066f8a4"
      },
      "execution_count": 3,
      "outputs": [
        {
          "output_type": "stream",
          "name": "stdout",
          "text": [
            "-2.0000000000000004\n"
          ]
        }
      ]
    },
    {
      "cell_type": "markdown",
      "source": [
        "#2. Menentukan invers matriks"
      ],
      "metadata": {
        "id": "YQoAC8K6dyIH"
      }
    },
    {
      "cell_type": "code",
      "source": [
        "import numpy as np\n",
        "\n",
        "# Membuat matriks 2x2\n",
        "M = np.array([[10, -22], [3, 45]])\n",
        "\n",
        "# Menghitung invers matriks\n",
        "inverse_of_M = np.linalg.inv(M)\n",
        "\n",
        "print(inverse_of_M)"
      ],
      "metadata": {
        "colab": {
          "base_uri": "https://localhost:8080/"
        },
        "id": "kELL9VM3d8VE",
        "outputId": "7feb3ac8-4a59-4fca-9d3f-ef2f97725a35"
      },
      "execution_count": 7,
      "outputs": [
        {
          "output_type": "stream",
          "name": "stdout",
          "text": [
            "[[ 0.0872093   0.04263566]\n",
            " [-0.00581395  0.01937984]]\n"
          ]
        }
      ]
    },
    {
      "cell_type": "markdown",
      "source": [
        "#3. Menentukan keadaan matriks"
      ],
      "metadata": {
        "id": "B6ExSsMbeoEL"
      }
    },
    {
      "cell_type": "code",
      "source": [
        "from numpy.linalg import \\\n",
        "             cond, matrix_rank\n",
        "\n",
        "     M = np.array([[1,10^-10],\n",
        "              [10^-10, 1]])\n",
        "\n",
        "print('Condition number:\\n', cond(M))"
      ],
      "metadata": {
        "colab": {
          "base_uri": "https://localhost:8080/",
          "height": 141
        },
        "id": "Q0N76BmvewTk",
        "outputId": "531ba614-1ca7-4299-acc3-f79efac88bc6"
      },
      "execution_count": 15,
      "outputs": [
        {
          "output_type": "error",
          "ename": "IndentationError",
          "evalue": "ignored",
          "traceback": [
            "\u001b[0;36m  File \u001b[0;32m\"<ipython-input-15-b385facd111b>\"\u001b[0;36m, line \u001b[0;32m4\u001b[0m\n\u001b[0;31m    M = np.array([[1,10^-10],\u001b[0m\n\u001b[0m    ^\u001b[0m\n\u001b[0;31mIndentationError\u001b[0m\u001b[0;31m:\u001b[0m unexpected indent\n"
          ]
        }
      ]
    },
    {
      "cell_type": "markdown",
      "source": [
        "#4. Menentukan sistem persamaan linier"
      ],
      "metadata": {
        "id": "oQ27I3qVf1PF"
      }
    },
    {
      "cell_type": "code",
      "source": [
        "from numpy.linalg import \\\n",
        "             cond, matrix_rank\n",
        "\n",
        "M = np.array([[1,2],\n",
        "              [3,4]])\n",
        "\n",
        "\n",
        "y = np.array([[5], [6]])\n",
        "M_y = np.concatenate((M, y), axis = 1)\n",
        "print('Augmented matrix:\\n', M_y)"
      ],
      "metadata": {
        "colab": {
          "base_uri": "https://localhost:8080/",
          "height": 245
        },
        "id": "fNGokf8Qf8mJ",
        "outputId": "a8deb36e-b357-4fdf-a477-dc3e115d27ca"
      },
      "execution_count": 16,
      "outputs": [
        {
          "output_type": "error",
          "ename": "NameError",
          "evalue": "ignored",
          "traceback": [
            "\u001b[0;31m---------------------------------------------------------------------------\u001b[0m",
            "\u001b[0;31mNameError\u001b[0m                                 Traceback (most recent call last)",
            "\u001b[0;32m<ipython-input-16-4e1f1dc8ade0>\u001b[0m in \u001b[0;36m<cell line: 4>\u001b[0;34m()\u001b[0m\n\u001b[1;32m      2\u001b[0m              \u001b[0mcond\u001b[0m\u001b[0;34m,\u001b[0m \u001b[0mmatrix_rank\u001b[0m\u001b[0;34m\u001b[0m\u001b[0;34m\u001b[0m\u001b[0m\n\u001b[1;32m      3\u001b[0m \u001b[0;34m\u001b[0m\u001b[0m\n\u001b[0;32m----> 4\u001b[0;31m M = np.array([[1,2],\n\u001b[0m\u001b[1;32m      5\u001b[0m               [3,4]])\n\u001b[1;32m      6\u001b[0m \u001b[0;34m\u001b[0m\u001b[0m\n",
            "\u001b[0;31mNameError\u001b[0m: name 'np' is not defined"
          ]
        }
      ]
    },
    {
      "cell_type": "markdown",
      "source": [
        "#5. Menentukan dimensi ruang nol"
      ],
      "metadata": {
        "id": "mF4WExJGiQlR"
      }
    },
    {
      "cell_type": "code",
      "source": [
        "from numpy.linalg import \\\n",
        "             cond, matrix_rank\n",
        "\n",
        "M = np.array([[1, 2, 3],\n",
        "              [4, 5, 6],\n",
        "              [7, 8, 9]])\n",
        "\n",
        "print('Rank:\\n', matrix_rank(M))\n",
        "#menghitung dimensi ruang nol\n",
        "x = 3-matrix_rank(M)\n",
        "print(x)"
      ],
      "metadata": {
        "colab": {
          "base_uri": "https://localhost:8080/",
          "height": 245
        },
        "id": "wDICRQxXiWpL",
        "outputId": "0eb654a5-b8ca-44d1-c4d6-d50976b93468"
      },
      "execution_count": 17,
      "outputs": [
        {
          "output_type": "error",
          "ename": "NameError",
          "evalue": "ignored",
          "traceback": [
            "\u001b[0;31m---------------------------------------------------------------------------\u001b[0m",
            "\u001b[0;31mNameError\u001b[0m                                 Traceback (most recent call last)",
            "\u001b[0;32m<ipython-input-17-e9328267d555>\u001b[0m in \u001b[0;36m<cell line: 4>\u001b[0;34m()\u001b[0m\n\u001b[1;32m      2\u001b[0m              \u001b[0mcond\u001b[0m\u001b[0;34m,\u001b[0m \u001b[0mmatrix_rank\u001b[0m\u001b[0;34m\u001b[0m\u001b[0;34m\u001b[0m\u001b[0m\n\u001b[1;32m      3\u001b[0m \u001b[0;34m\u001b[0m\u001b[0m\n\u001b[0;32m----> 4\u001b[0;31m M = np.array([[1, 2, 3],\n\u001b[0m\u001b[1;32m      5\u001b[0m               \u001b[0;34m[\u001b[0m\u001b[0;36m4\u001b[0m\u001b[0;34m,\u001b[0m \u001b[0;36m5\u001b[0m\u001b[0;34m,\u001b[0m \u001b[0;36m6\u001b[0m\u001b[0;34m]\u001b[0m\u001b[0;34m,\u001b[0m\u001b[0;34m\u001b[0m\u001b[0;34m\u001b[0m\u001b[0m\n\u001b[1;32m      6\u001b[0m               [7, 8, 9]])\n",
            "\u001b[0;31mNameError\u001b[0m: name 'np' is not defined"
          ]
        }
      ]
    }
  ]
}