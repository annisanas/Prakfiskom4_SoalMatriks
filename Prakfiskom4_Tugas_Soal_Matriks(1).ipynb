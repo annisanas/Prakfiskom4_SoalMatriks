{
  "nbformat": 4,
  "nbformat_minor": 0,
  "metadata": {
    "colab": {
      "provenance": []
    },
    "kernelspec": {
      "name": "python3",
      "display_name": "Python 3"
    },
    "language_info": {
      "name": "python"
    }
  },
  "cells": [
    {
      "cell_type": "markdown",
      "source": [
        "#Nama : Annisa Nurlaili Aulia Safitri\n",
        "#Tugas\n",
        "# 1. Tentukan determinan matriks berikut:\n",
        "\n",
        "$$\\displaystyle A = \\left( \\begin{array}{cc}\n",
        "1 & 2 \\\\\n",
        "3 & 4\n",
        "\\end{array}\n",
        "\\right)\n",
        "$$\n",
        "\n",
        "#2. Tentukan invers Matriks Berikut:\n",
        "\n",
        "$$\\displaystyle B = \\left( \\begin{array}{cc}\n",
        "10 & -22 \\\\\n",
        "3 & 45\n",
        "\\end{array}\n",
        "\\right)\n",
        "$$\n",
        "\n",
        "#3. Tentukan apakah matriks berikut berkondisi buruk:\n",
        "$$\\displaystyle C = \\left( \\begin{array}{cc}\n",
        "1 & 10^{-10} \\\\\n",
        "10^{-10} & 1\n",
        "\\end{array}\n",
        "\\right)\n",
        "$$\n",
        "\n",
        "#4. Tentukan apakah sistem persamaan linier berikut memiliki solusi. Jika ada, bagaimana solusinya?\n",
        "\n",
        "$$\\displaystyle A = \\left( \\begin{array}{cc}\n",
        "1 & 2 \\\\\n",
        "3 & 4\n",
        "\\end{array}\n",
        "\\right) $$\n",
        "\n",
        "\n",
        "$$\\displaystyle\n",
        "b =  \\left( \\begin{array}{cc}\n",
        "5 & 6\n",
        "\\end{array}\n",
        "\\right) \\\\\n",
        "$$\n",
        "\n",
        "#5. Tentukan dimensi ruang nol matriks berikut:\n",
        "\n",
        "\n",
        "$$\\displaystyle\n",
        "C =\n",
        "\\left(\n",
        "\\begin{array}{ccc}\n",
        "1 & 2 & 3 \\\\\n",
        "4 & 5 & 6 \\\\\n",
        "7 & 8 & 9\n",
        "\\end{array}\n",
        "\\right)\n",
        "$$"
      ],
      "metadata": {
        "id": "6f2-D0n4b-gt"
      }
    },
    {
      "cell_type": "markdown",
      "source": [
        "#Jawaban\n",
        "\n",
        "#1. Menentukan determinan matriks"
      ],
      "metadata": {
        "id": "rgHZkFz4dDGp"
      }
    },
    {
      "cell_type": "code",
      "source": [
        "import numpy as np\n",
        "\n",
        "# Membuat matriks 2x2\n",
        "A = np.array([[1, 2], [3, 4]])\n",
        "\n",
        "# Menghitung determinan matriks\n",
        "determinant = np.linalg.det(A)\n",
        "\n",
        "print(determinant)"
      ],
      "metadata": {
        "colab": {
          "base_uri": "https://localhost:8080/"
        },
        "id": "kiDc72J9dJit",
        "outputId": "6f7bb21d-c436-4d32-de39-2e386cc0d307"
      },
      "execution_count": 1,
      "outputs": [
        {
          "output_type": "stream",
          "name": "stdout",
          "text": [
            "-2.0000000000000004\n"
          ]
        }
      ]
    },
    {
      "cell_type": "markdown",
      "source": [
        "#2. Menentukan invers matriks"
      ],
      "metadata": {
        "id": "YQoAC8K6dyIH"
      }
    },
    {
      "cell_type": "code",
      "source": [
        "import numpy as np\n",
        "\n",
        "# Membuat matriks 2x2\n",
        "B = np.array([[10, -22], [3, 45]])\n",
        "\n",
        "# Menghitung invers matriks\n",
        "inverse_of_B = np.linalg.inv(B)\n",
        "\n",
        "print(inverse_of_B)"
      ],
      "metadata": {
        "colab": {
          "base_uri": "https://localhost:8080/"
        },
        "id": "kELL9VM3d8VE",
        "outputId": "d18cb139-1f54-466d-e932-b1c77a1b4f51"
      },
      "execution_count": 2,
      "outputs": [
        {
          "output_type": "stream",
          "name": "stdout",
          "text": [
            "[[ 0.0872093   0.04263566]\n",
            " [-0.00581395  0.01937984]]\n"
          ]
        }
      ]
    },
    {
      "cell_type": "markdown",
      "source": [
        "#3. Menentukan keadaan matriks"
      ],
      "metadata": {
        "id": "B6ExSsMbeoEL"
      }
    },
    {
      "cell_type": "code",
      "source": [
        "from numpy.linalg import cond\n",
        "import numpy as np\n",
        "\n",
        "C = np.array([[1, 10**-10],\n",
        "              [10**-10, 1]])\n",
        "\n",
        "print('Condition number:\\n', cond(C))"
      ],
      "metadata": {
        "colab": {
          "base_uri": "https://localhost:8080/"
        },
        "id": "Q0N76BmvewTk",
        "outputId": "76d8e65b-9902-454d-8a35-85bf806bbaa1"
      },
      "execution_count": 13,
      "outputs": [
        {
          "output_type": "stream",
          "name": "stdout",
          "text": [
            "Condition number:\n",
            " 1.0000000002\n"
          ]
        }
      ]
    },
    {
      "cell_type": "markdown",
      "source": [
        "#4. Menentukan sistem persamaan linier"
      ],
      "metadata": {
        "id": "oQ27I3qVf1PF"
      }
    },
    {
      "cell_type": "code",
      "source": [
        "from numpy.linalg import matrix_rank\n",
        "import numpy as np\n",
        "\n",
        "A = np.array([[1,2],\n",
        "              [3,4]])\n",
        "\n",
        "print('Rank:\\n', matrix_rank(A))\n",
        "B = np.array([[5],[6]])\n",
        "A_B = np.concatenate((A, B), axis = 1)\n",
        "print('Augmented matrix:\\n', A_B)"
      ],
      "metadata": {
        "colab": {
          "base_uri": "https://localhost:8080/"
        },
        "id": "fNGokf8Qf8mJ",
        "outputId": "b6e0e492-cf49-431b-9384-022cf7fee203"
      },
      "execution_count": 14,
      "outputs": [
        {
          "output_type": "stream",
          "name": "stdout",
          "text": [
            "Rank:\n",
            " 2\n",
            "Augmented matrix:\n",
            " [[1 2 5]\n",
            " [3 4 6]]\n"
          ]
        }
      ]
    },
    {
      "cell_type": "markdown",
      "source": [
        "#5. Menentukan dimensi ruang nol"
      ],
      "metadata": {
        "id": "mF4WExJGiQlR"
      }
    },
    {
      "cell_type": "code",
      "source": [
        "import numpy as np\n",
        "\n",
        "C = np.array([[1, 2, 3],\n",
        "              [4, 5, 6],\n",
        "              [7, 8, 9]])\n",
        "\n",
        "null_space, _, _, _ = np.linalg.lstsq(C, np.zeros(C.shape[0]))\n",
        "null_space_dimension = len(C[0]) - np.linalg.matrix_rank(C)\n",
        "\n",
        "print(\"Matriks C:\")\n",
        "print(C)\n",
        "print(\"\\nSolusi homogen (kernel):\")\n",
        "print(null_space)\n",
        "print(\"\\nDimensi ruang nol:\")\n",
        "print(null_space_dimension)"
      ],
      "metadata": {
        "colab": {
          "base_uri": "https://localhost:8080/"
        },
        "id": "wDICRQxXiWpL",
        "outputId": "6f384ea4-fb3a-4fee-8544-28d9499dab82"
      },
      "execution_count": 24,
      "outputs": [
        {
          "output_type": "stream",
          "name": "stdout",
          "text": [
            "Matriks C:\n",
            "[[1 2 3]\n",
            " [4 5 6]\n",
            " [7 8 9]]\n",
            "\n",
            "Solusi homogen (kernel):\n",
            "[0. 0. 0.]\n",
            "\n",
            "Dimensi ruang nol:\n",
            "1\n"
          ]
        },
        {
          "output_type": "stream",
          "name": "stderr",
          "text": [
            "<ipython-input-24-38cf16fb623b>:7: FutureWarning: `rcond` parameter will change to the default of machine precision times ``max(M, N)`` where M and N are the input matrix dimensions.\n",
            "To use the future default and silence this warning we advise to pass `rcond=None`, to keep using the old, explicitly pass `rcond=-1`.\n",
            "  null_space, _, _, _ = np.linalg.lstsq(C, np.zeros(C.shape[0]))\n"
          ]
        }
      ]
    }
  ]
}